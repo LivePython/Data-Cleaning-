{
 "cells": [
  {
   "cell_type": "code",
   "execution_count": 14,
   "metadata": {},
   "outputs": [],
   "source": [
    "# for basic operations\n",
    "import numpy as np\n",
    "import pandas as pd\n",
    "\n",
    "# for data visualizations\n",
    "import matplotlib.pyplot as plt\n",
    "import seaborn as sns"
   ]
  },
  {
   "cell_type": "code",
   "execution_count": 15,
   "metadata": {},
   "outputs": [
    {
     "data": {
      "text/plain": [
       "(22000, 14)"
      ]
     },
     "execution_count": 15,
     "metadata": {},
     "output_type": "execute_result"
    }
   ],
   "source": [
    "# lets check the head of naukri\n",
    "data = pd.read_csv('naukri.csv')\n",
    "\n",
    "# lets check the shape\n",
    "data.shape"
   ]
  },
  {
   "cell_type": "code",
   "execution_count": 16,
   "metadata": {},
   "outputs": [
    {
     "data": {
      "text/html": [
       "<div>\n",
       "<style scoped>\n",
       "    .dataframe tbody tr th:only-of-type {\n",
       "        vertical-align: middle;\n",
       "    }\n",
       "\n",
       "    .dataframe tbody tr th {\n",
       "        vertical-align: top;\n",
       "    }\n",
       "\n",
       "    .dataframe thead th {\n",
       "        text-align: right;\n",
       "    }\n",
       "</style>\n",
       "<table border=\"1\" class=\"dataframe\">\n",
       "  <thead>\n",
       "    <tr style=\"text-align: right;\">\n",
       "      <th></th>\n",
       "      <th>company</th>\n",
       "      <th>education</th>\n",
       "      <th>experience</th>\n",
       "      <th>industry</th>\n",
       "      <th>jobdescription</th>\n",
       "      <th>jobid</th>\n",
       "      <th>joblocation_address</th>\n",
       "      <th>jobtitle</th>\n",
       "      <th>numberofpositions</th>\n",
       "      <th>payrate</th>\n",
       "      <th>postdate</th>\n",
       "      <th>site_name</th>\n",
       "      <th>skills</th>\n",
       "      <th>uniq_id</th>\n",
       "    </tr>\n",
       "  </thead>\n",
       "  <tbody>\n",
       "    <tr>\n",
       "      <th>0</th>\n",
       "      <td>MM Media Pvt Ltd</td>\n",
       "      <td>UG: B.Tech/B.E. - Any Specialization PG:Any Po...</td>\n",
       "      <td>0 - 1 yrs</td>\n",
       "      <td>Media / Entertainment / Internet</td>\n",
       "      <td>Job Description   Send me Jobs like this Quali...</td>\n",
       "      <td>210516002263</td>\n",
       "      <td>Chennai</td>\n",
       "      <td>Walkin Data Entry Operator (night Shift)</td>\n",
       "      <td>NaN</td>\n",
       "      <td>1,50,000 - 2,25,000 P.A</td>\n",
       "      <td>2016-05-21 19:30:00 +0000</td>\n",
       "      <td>NaN</td>\n",
       "      <td>ITES</td>\n",
       "      <td>43b19632647068535437c774b6ca6cf8</td>\n",
       "    </tr>\n",
       "    <tr>\n",
       "      <th>1</th>\n",
       "      <td>find live infotech</td>\n",
       "      <td>UG: B.Tech/B.E. - Any Specialization PG:MBA/PG...</td>\n",
       "      <td>0 - 0 yrs</td>\n",
       "      <td>Advertising / PR / MR / Event Management</td>\n",
       "      <td>Job Description   Send me Jobs like this Quali...</td>\n",
       "      <td>210516002391</td>\n",
       "      <td>Chennai</td>\n",
       "      <td>Work Based Onhome Based Part Time.</td>\n",
       "      <td>60.0</td>\n",
       "      <td>1,50,000 - 2,50,000 P.A. 20000</td>\n",
       "      <td>2016-05-21 19:30:00 +0000</td>\n",
       "      <td>NaN</td>\n",
       "      <td>Marketing</td>\n",
       "      <td>d4c72325e57f89f364812b5ed5a795f0</td>\n",
       "    </tr>\n",
       "    <tr>\n",
       "      <th>2</th>\n",
       "      <td>Softtech Career Infosystem Pvt. Ltd</td>\n",
       "      <td>UG: Any Graduate - Any Specialization PG:Any P...</td>\n",
       "      <td>4 - 8 yrs</td>\n",
       "      <td>IT-Software / Software Services</td>\n",
       "      <td>Job Description   Send me Jobs like this - as ...</td>\n",
       "      <td>101016900534</td>\n",
       "      <td>Bengaluru</td>\n",
       "      <td>Pl/sql Developer - SQL</td>\n",
       "      <td>NaN</td>\n",
       "      <td>Not Disclosed by Recruiter</td>\n",
       "      <td>2016-10-13 16:20:55 +0000</td>\n",
       "      <td>NaN</td>\n",
       "      <td>IT Software - Application Programming</td>\n",
       "      <td>c47df6f4cfdf5b46f1fd713ba61b9eba</td>\n",
       "    </tr>\n",
       "  </tbody>\n",
       "</table>\n",
       "</div>"
      ],
      "text/plain": [
       "                               company  \\\n",
       "0                     MM Media Pvt Ltd   \n",
       "1                   find live infotech   \n",
       "2  Softtech Career Infosystem Pvt. Ltd   \n",
       "\n",
       "                                           education experience  \\\n",
       "0  UG: B.Tech/B.E. - Any Specialization PG:Any Po...  0 - 1 yrs   \n",
       "1  UG: B.Tech/B.E. - Any Specialization PG:MBA/PG...  0 - 0 yrs   \n",
       "2  UG: Any Graduate - Any Specialization PG:Any P...  4 - 8 yrs   \n",
       "\n",
       "                                   industry  \\\n",
       "0          Media / Entertainment / Internet   \n",
       "1  Advertising / PR / MR / Event Management   \n",
       "2           IT-Software / Software Services   \n",
       "\n",
       "                                      jobdescription         jobid  \\\n",
       "0  Job Description   Send me Jobs like this Quali...  210516002263   \n",
       "1  Job Description   Send me Jobs like this Quali...  210516002391   \n",
       "2  Job Description   Send me Jobs like this - as ...  101016900534   \n",
       "\n",
       "  joblocation_address                                  jobtitle  \\\n",
       "0             Chennai  Walkin Data Entry Operator (night Shift)   \n",
       "1             Chennai        Work Based Onhome Based Part Time.   \n",
       "2           Bengaluru                    Pl/sql Developer - SQL   \n",
       "\n",
       "   numberofpositions                         payrate  \\\n",
       "0                NaN         1,50,000 - 2,25,000 P.A   \n",
       "1               60.0  1,50,000 - 2,50,000 P.A. 20000   \n",
       "2                NaN      Not Disclosed by Recruiter   \n",
       "\n",
       "                    postdate site_name                                 skills  \\\n",
       "0  2016-05-21 19:30:00 +0000       NaN                                   ITES   \n",
       "1  2016-05-21 19:30:00 +0000       NaN                              Marketing   \n",
       "2  2016-10-13 16:20:55 +0000       NaN  IT Software - Application Programming   \n",
       "\n",
       "                            uniq_id  \n",
       "0  43b19632647068535437c774b6ca6cf8  \n",
       "1  d4c72325e57f89f364812b5ed5a795f0  \n",
       "2  c47df6f4cfdf5b46f1fd713ba61b9eba  "
      ]
     },
     "execution_count": 16,
     "metadata": {},
     "output_type": "execute_result"
    }
   ],
   "source": [
    "# lets check the Head of the Dataset\n",
    "data.head(3)"
   ]
  },
  {
   "cell_type": "code",
   "execution_count": 17,
   "metadata": {},
   "outputs": [
    {
     "data": {
      "text/plain": [
       "0                                            [Chennai]\n",
       "1                                            [Chennai]\n",
       "2                                          [Bengaluru]\n",
       "3    [Mumbai,  Bengaluru,  Kolkata,  Chennai,  Coim...\n",
       "4                                          [Bengaluru]\n",
       "Name: joblocation_adress, dtype: object"
      ]
     },
     "execution_count": 17,
     "metadata": {},
     "output_type": "execute_result"
    }
   ],
   "source": [
    "\n",
    "data['joblocation_adress'] = data['joblocation_address'].str.split(',')\n",
    "data['joblocation_adress'].iloc[:5]"
   ]
  },
  {
   "cell_type": "code",
   "execution_count": 18,
   "metadata": {},
   "outputs": [
    {
     "data": {
      "text/plain": [
       "Bengaluru/Bangalore           3775\n",
       "Mumbai                        2593\n",
       "Bengaluru/Bangalore           2134\n",
       "Bengaluru                     2026\n",
       " Mumbai                       1378\n",
       "Chennai                       1290\n",
       "Hyderabad / Secunderabad      1246\n",
       "Hyderabad                     1154\n",
       "Mumbai                        1067\n",
       " Mumbai                        923\n",
       " Chennai                       905\n",
       "Delhi                          790\n",
       "Noida                          777\n",
       "Gurgaon                        762\n",
       " Chennai                       738\n",
       " Hyderabad / Secunderabad      700\n",
       "Delhi                          680\n",
       " Pune                          645\n",
       " Delhi                         602\n",
       " Gurgaon                       557\n",
       "Name: joblocation_adress, dtype: int64"
      ]
     },
     "execution_count": 18,
     "metadata": {},
     "output_type": "execute_result"
    }
   ],
   "source": [
    "data = data.explode('joblocation_adress')\n",
    "data['joblocation_adress'].value_counts()[:20]"
   ]
  },
  {
   "cell_type": "code",
   "execution_count": 20,
   "metadata": {},
   "outputs": [
    {
     "data": {
      "text/plain": [
       "Bangalore       9963\n",
       "NCR             8668\n",
       "Mumbai          6403\n",
       "Hyderabad       4570\n",
       "Chennai         3373\n",
       "                ... \n",
       " Baroda            1\n",
       " Amravati          1\n",
       "Vasai              1\n",
       " Alaska            1\n",
       " south india       1\n",
       "Name: joblocation_adress, Length: 622, dtype: int64"
      ]
     },
     "execution_count": 20,
     "metadata": {},
     "output_type": "execute_result"
    }
   ],
   "source": [
    "\n",
    "data['joblocation_adress'] = data['joblocation_adress'].replace(('(Bengaluru/Bangalore)',' Bangalore',\n",
    "                                                                ' Bangalore ','Bangalore ','Bengaluru/Bangalore ',\n",
    "                                                                 ' Bengaluru/Bangalore ',' Bengaluru/Bangalore',\n",
    "                                                                'Bengaluru/Bangalore','Bengaluru','NCR Bangalore',\n",
    "                                                                'NCR Bangalore ','Near Bangalore', ' Bengaluru/Bangalore',\n",
    "                                                                 ' Bengaluru/Bangalore ', ' Bengaluru',\n",
    "                                                                 'Bangalore , Bangalore / Bangalore',\n",
    "                                                                 'Bangalore , karnataka',' Bengaluru / Bangalore', \n",
    "                                                                 ' Bengaluru / Bangalore ', 'Bengaluru Bangalore',\n",
    "                                                                 'India-Karnataka-Bangalore',' bangalore',' karnataka',\n",
    "                                                                ' Bengaluru Bangalore'),\n",
    "                                                                ('Bangalore','Bangalore','Bangalore','Bangalore','Bangalore',\n",
    "                                                                'Bangalore','Bangalore','Bangalore','Bangalore','Bangalore',\n",
    "                                                                'Bangalore','Bangalore','Bangalore','Bangalore','Bangalore',\n",
    "                                                                 'Bangalore','Bangalore', 'Bangalore','Bangalore','Bangalore',\n",
    "                                                                'Bangalore','Bangalore','Bangalore','Bangalore',))\n",
    "                                                                \n",
    "data['joblocation_adress'] = data['joblocation_adress'].replace(('Hyderabad / Secunderabad',' Hyderabad / Secunderabad',\n",
    "                                                                 ' Hyderabad / Secunderabad ','Hyderabad / Secunderabad ',\n",
    "                                                                ' Hyderabad','Hyderabad ',' Hyderabad ',\n",
    "                                                                 'Hyderabad/Secunderabad','Hyderabad/Secunderabad ',\n",
    "                                                                ' Hyderabad/Secunderabad ',' Hyderabad/Secunderabad',),\n",
    "                                                                ('Hyderabad', 'Hyderabad','Hyderabad','Hyderabad',\n",
    "                                                                 'Hyderabad', 'Hyderabad','Hyderabad','Hyderabad',\n",
    "                                                                'Hyderabad','Hyderabad','Hyderabad'))\n",
    "\n",
    "\n",
    "  \n",
    "data['joblocation_adress'] = data['joblocation_adress'].replace(('NAVI MUMBAI',' NAVI MUMBAI','NAVI MUMBAI ',\n",
    "                                                                 ' NAVI MUMBAI',' NAVI MUMBAI ','Mumbai , Mumbai',\n",
    "                                                                 ' Mumbai',' Mumbai ','Mumbai ','mumbai','Navi Mumbai',\n",
    "                                                                ' Navi Mumbai',' Navi Mumbai ','Navi Mumbai ', \n",
    "                                                                 ' Mumbai Suburbs','Mumbai Suburbs ','Mumbai Suburbs',\n",
    "                                                                ' Mumbai Suburbs ','mumbai',' mumbai','mumbai ',\n",
    "                                                                 ' maharashtra'),\n",
    "                                                                ('Mumbai','Mumbai','Mumbai','Mumbai','Mumbai','Mumbai',\n",
    "                                                                 'Mumbai','Mumbai','Mumbai', 'Mumbai','Mumbai','Mumbai',\n",
    "                                                                'Mumbai','Mumbai','Mumbai','Mumbai','Mumbai','Mumbai','Mumbai',\n",
    "                                                                'Mumbai','Mumbai', 'Mumbai'))\n",
    "\n",
    "data['joblocation_adress'] = data['joblocation_adress'].replace(('Noida','Noida ',' Noida',' Delhi','Delhi','Delhi ',' Delhi ',\n",
    "                                                                 'Gurgaon',' Gurgaon',' Gurgaon ','Gurgaon ', ' noida',\n",
    "                                                                 ' Noida/Greater Noida',' Noida ', ' Delhi NCR',\n",
    "                                                                 'Delhi/NCR(National Capital Region)',' Delhi/NCR ',\n",
    "                                                                 ' Delhi/NCR(National Capital Region)',\n",
    "                                                                 ' Delhi/NCR(National Capital Region) ',\n",
    "                                                                 'Delhi/NCR(National Capital Region) ','Delhi , Delhi',\n",
    "                                                                 'Noida , Noida/Greater Noida','Ghaziabad',\n",
    "                                                                 'Delhi/NCR(National Capital Region) , Gurgaon',\n",
    "                                                                 'NCR , NCR','NCR/NCR(National Capital Region)',\n",
    "                                                                'NCR , NCR/Greater NCR','NCR/NCR(National Capital Region), NCR',\n",
    "                                                                 'NCR , NCR/NCR(National Capital Region)',\n",
    "                                                                 'NCR/NCR(National Capital Region)','NCR/Greater NCR',\n",
    "                                                                 'NCR/NCR(National Capital Region) , NCR','Delhi/NCR ',\n",
    "                                                                ' Noida/Greater Noida','Greater Noida',' Greater Noida',\n",
    "                                                                 ' Greater Noida ','Greater Noida ','Ghaziabad',' Ghaziabad',\n",
    "                                                                 'Ghaziabad ',' Ghaziabad ','Faridabad','Faridabad ',\n",
    "                                                                 ' Faridabad',' Faridabad ',' Noida/Greater Noida',\n",
    "                                                                 ' Noida/Greater Noida ',' delhi',' Delhi/NCR','Delhi NCR'\n",
    "                                                                ),\n",
    "                                                                ('NCR','NCR','NCR','NCR','NCR','NCR','NCR','NCR','NCR','NCR',\n",
    "                                                                'NCR','NCR','NCR','NCR','NCR','NCR','NCR','NCR','NCR','NCR',\n",
    "                                                                'NCR','NCR','NCR','NCR','NCR','NCR', 'NCR','NCR','NCR','NCR',\n",
    "                                                                 'NCR','NCR','NCR','NCR','NCR','NCR','NCR','NCR','NCR','NCR',\n",
    "                                                                 'NCR','NCR','NCR','NCR','NCR','NCR','NCR','NCR','NCR','NCR',\n",
    "                                                                'NCR'))\n",
    "\n",
    "\n",
    "data['joblocation_adress'] = data['joblocation_adress'].replace(('Chennai ',' Chennai',' Chennai ',' Chennai',\n",
    "                                                                 'chennai ',' chennai',' chennai ',' chennai',),\n",
    "                                                                ('Chennai', 'Chennai','Chennai','Chennai','Chennai',\n",
    "                                                                'Chennai','Chennai','Chennai',))\n",
    "\n",
    "data['joblocation_adress'] = data['joblocation_adress'].replace(('Pune ',' Pune',' Pune '),('Pune','Pune','Pune'))\n",
    "data['joblocation_adress'] = data['joblocation_adress'].replace(('Kolkata ',' Kolkata',' Kolkata ',\n",
    "                                                                ' kolkata','kolkata ',' kolkata'),\n",
    "                                                                ('Kolkata','Kolkata','Kolkata',\n",
    "                                                                  'Kolkata','Kolkata','Kolkata'))\n",
    "data['joblocation_adress'] = data['joblocation_adress'].replace((' Ahmedabad','Ahmedabad ',' Ahmedabad '),('Ahmedabad',\n",
    "                                                                                         'Ahmedabad','Ahmedabad'))\n",
    "data['joblocation_adress'] = data['joblocation_adress'].replace(('Chandigarh ',' Chandigarh',' Chandigarh '),\n",
    "                                                                ('Chandigarh','Chandigarh','Chandigarh'))\n",
    "data['joblocation_adress'] = data['joblocation_adress'].replace(('Surat ',' Surat',' Surat '),\n",
    "                                                                ('Surat','Surat','Surat'))\n",
    "data['joblocation_adress'] = data['joblocation_adress'].replace(('Ernakulam / Kochi/ Cochin ', ' Kochi', 'Kochi ',' Kochi ',\n",
    "                                                                 ' Cochin/ Kochi/ Ernakulam', ' Cochin/ Kochi/ Ernakulam ', \n",
    "                                                                 ' Ernakulam / Kochi/ Cochin',' Ernakulam / Kochi/ Cochin '),\n",
    "                                                                ('Kochi','Kochi','Kochi','Kochi','Kochi','Kochi','Kochi',\n",
    "                                                                 'Kochi',))\n",
    "data['joblocation_adress'] = data['joblocation_adress'].replace(('Coimbatore ',' Coimbatore',' Coimbatore '),\n",
    "                                                                ('Coimbatore','Coimbatore','Coimbatore'))\n",
    "data['joblocation_adress'] = data['joblocation_adress'].replace(('Coimbatore ',' Coimbatore',' Coimbatore '),\n",
    "                                                                ('Coimbatore','Coimbatore','Coimbatore'))\n",
    "data['joblocation_adress'] = data['joblocation_adress'].replace(('Lucknow ',' Lucknow',' Lucknow '),\n",
    "                                                                ('Lucknow','Lucknow','Lucknow'))\n",
    "data['joblocation_adress'] = data['joblocation_adress'].replace(('Jaipur ',' Jaipur',' Jaipur ','jaipur ',' jaipur',\n",
    "                                                                 ' jaipur '),\n",
    "                                                                ('Jaipur','Jaipur','Jaipur','Jaipur','Jaipur','Jaipur'))\n",
    "data['joblocation_adress'] = data['joblocation_adress'].replace(('Vijayawada ',' Vijayawada',' Vijayawada '),\n",
    "                                                                ('Vijayawada','Vijayawada','Vijayawada'))\n",
    "data['joblocation_adress'] = data['joblocation_adress'].replace(('Visakhapatnam ',' Visakhapatnam',' Visakhapatnam ',\n",
    "                                                                'Visakhapatnam/Vizag ',' Visakhapatnam/Vizag',\n",
    "                                                                 ' Visakhapatnam/Vizag '),\n",
    "                                                                ('Visakhapatnam','Visakhapatnam','Visakhapatnam',\n",
    "                                                                 'Visakhapatnam','Visakhapatnam','Visakhapatnam',\n",
    "                                                                ))\n",
    "\n",
    "data['joblocation_adress'] = data['joblocation_adress'].replace((' Bhubaneshwar',' Bhubaneshwar',' Bhubaneshwar '),\n",
    "                                                                ('Bhubaneshwar','Bhubaneshwar','Bhubaneshwar'))\n",
    "data['joblocation_adress'] = data['joblocation_adress'].replace((' Patna',' Patna',' Patna '),\n",
    "                                                                ('Patna','Patna','Patna'))\n",
    "\n",
    "data['joblocation_adress'] = data['joblocation_adress'].replace((' Trivandrum',' Trivandrum',' Trivandrum '),\n",
    "                                                                ('Trivandrum','Trivandrum','Trivandrum'))\n",
    "\n",
    "data['joblocation_adress'] = data['joblocation_adress'].replace((' Mangalore',' Mangalore',' Mangalore '),\n",
    "                                                                ('Mangalore','Mangalore','Mangalore'))\n",
    "data['joblocation_adress'] = data['joblocation_adress'].replace((' Indore',' Indore',' Indore '),\n",
    "                                                                ('Indore','Indore','Indore'))\n",
    "data['joblocation_adress'] = data['joblocation_adress'].replace((' Guwahati',' Guwahati',' Guwahati '),\n",
    "                                                                ('Guwahati','Guwahati','Guwahati'))\n",
    "data['joblocation_adress'] = data['joblocation_adress'].replace((' Nagpur',' Nagpur',' Nagpur '),\n",
    "                                                                ('Nagpur','Nagpur','Nagpur'))\n",
    "data['joblocation_adress'] = data['joblocation_adress'].replace((' Raipur',' Raipur',' Raipur '),\n",
    "                                                                ('Raipur','Raipur','Raipur'))\n",
    "data['joblocation_adress'] = data['joblocation_adress'].replace((' Thane',' Thane',' Thane '),\n",
    "                                                                ('Thane','Thane','Thane'))\n",
    "data['joblocation_adress'] = data['joblocation_adress'].replace((' Bhopal',' Bhopal',' Bhopal '),\n",
    "                                                                ('Bhopal','Bhopal','Bhopal'))\n",
    "data['joblocation_adress'] = data['joblocation_adress'].replace((' Vadodara/Baroda',' Vadodara/Baroda',' Vadodara/Baroda ',\n",
    "                                                                ' Vadodara','Vadodara ',' Vadodara '),\n",
    "                                                                ('Vadodara','Vadodara','Vadodara','Vadodara',\n",
    "                                                                 'Vadodara','Vadodara',))\n",
    "                                                                                                                                  \n",
    "\n",
    "data['joblocation_adress'].value_counts()"
   ]
  },
  {
   "cell_type": "code",
   "execution_count": 21,
   "metadata": {
    "scrolled": false
   },
   "outputs": [
    {
     "data": {
      "text/plain": [
       "Bangalore        9963\n",
       "NCR              8668\n",
       "Mumbai           6403\n",
       "Hyderabad        4570\n",
       "Chennai          3373\n",
       "Pune             1227\n",
       "Kolkata           543\n",
       "Ahmedabad         404\n",
       "Chandigarh        189\n",
       "Kochi             140\n",
       "Coimbatore        136\n",
       "Jaipur            131\n",
       "Visakhapatnam     125\n",
       "Surat             106\n",
       "Lucknow           101\n",
       "Vijayawada         84\n",
       "Bhubaneshwar       74\n",
       "Trivandrum         69\n",
       "Vadodara           65\n",
       "Indore             63\n",
       "Mangalore          57\n",
       "Thane              48\n",
       "Nagpur             45\n",
       "Bhopal             42\n",
       "Guwahati           39\n",
       "Raipur             32\n",
       "Patna              26\n",
       "Name: joblocation_adress, dtype: int64"
      ]
     },
     "metadata": {},
     "output_type": "display_data"
    }
   ],
   "source": [
    "counts = data['joblocation_adress'].value_counts()\n",
    "data = data.loc[data['joblocation_adress'].isin(counts.index[counts > 25])]\n",
    "display(data['joblocation_adress'].value_counts())"
   ]
  },
  {
   "cell_type": "code",
   "execution_count": null,
   "metadata": {},
   "outputs": [],
   "source": []
  },
  {
   "cell_type": "code",
   "execution_count": 23,
   "metadata": {
    "scrolled": false
   },
   "outputs": [
    {
     "name": "stderr",
     "output_type": "stream",
     "text": [
      "C:\\Users\\USER\\AppData\\Local\\Temp\\ipykernel_13480\\1415553398.py:1: FutureWarning: The behavior of `series[i:j]` with an integer-dtype index is deprecated. In a future version, this will be treated as *label-based* indexing, consistent with e.g. `series[i]` lookups. To retain the old behavior, use `series.iloc[i:j]`. To get the future behavior, use `series.loc[i:j]`.\n",
      "  data['experience'][:5]\n"
     ]
    },
    {
     "data": {
      "text/plain": [
       "0      0 - 1 yrs\n",
       "1      0 - 0 yrs\n",
       "2      4 - 8 yrs\n",
       "3    11 - 15 yrs\n",
       "3    11 - 15 yrs\n",
       "Name: experience, dtype: object"
      ]
     },
     "execution_count": 23,
     "metadata": {},
     "output_type": "execute_result"
    }
   ],
   "source": [
    "data['experience'][:5]"
   ]
  },
  {
   "cell_type": "code",
   "execution_count": 25,
   "metadata": {},
   "outputs": [
    {
     "name": "stderr",
     "output_type": "stream",
     "text": [
      "C:\\Users\\USER\\AppData\\Local\\Temp\\ipykernel_13480\\3708712282.py:1: FutureWarning: The behavior of `series[i:j]` with an integer-dtype index is deprecated. In a future version, this will be treated as *label-based* indexing, consistent with e.g. `series[i]` lookups. To retain the old behavior, use `series.iloc[i:j]`. To get the future behavior, use `series.loc[i:j]`.\n",
      "  data['experience'].str.split(\" \")[:5]\n"
     ]
    },
    {
     "data": {
      "text/plain": [
       "0      [0, -, 1, yrs]\n",
       "1      [0, -, 0, yrs]\n",
       "2      [4, -, 8, yrs]\n",
       "3    [11, -, 15, yrs]\n",
       "3    [11, -, 15, yrs]\n",
       "Name: experience, dtype: object"
      ]
     },
     "execution_count": 25,
     "metadata": {},
     "output_type": "execute_result"
    }
   ],
   "source": [
    "data['experience'].str.split(\" \")[:5]"
   ]
  },
  {
   "cell_type": "code",
   "execution_count": 26,
   "metadata": {},
   "outputs": [],
   "source": [
    "data['Min Experience'] = data['experience'].apply(lambda x: x[0])\n",
    "data['Max Experience'] = data['experience'].apply(lambda x: x[2] if len(x) > 2 else x[1])"
   ]
  },
  {
   "cell_type": "code",
   "execution_count": 27,
   "metadata": {},
   "outputs": [
    {
     "data": {
      "text/plain": [
       "2    7330\n",
       "1    6779\n",
       "0    6340\n",
       "3    5343\n",
       "5    3329\n",
       "4    3135\n",
       "6    1530\n",
       "8    1292\n",
       "7    1048\n",
       "9     486\n",
       "N     111\n",
       "Name: Min Experience, dtype: int64"
      ]
     },
     "execution_count": 27,
     "metadata": {},
     "output_type": "execute_result"
    }
   ],
   "source": [
    "data['Min Experience'].value_counts()"
   ]
  },
  {
   "cell_type": "code",
   "execution_count": 11,
   "metadata": {},
   "outputs": [
    {
     "data": {
      "text/plain": [
       "5            6458\n",
       "7            4494\n",
       "8            3740\n",
       "6            3303\n",
       "3            3233\n",
       "10           2860\n",
       "4            2664\n",
       "9            1815\n",
       "2            1597\n",
       "12           1085\n",
       "1            1064\n",
       "11           1059\n",
       "15            834\n",
       "13            682\n",
       "20            501\n",
       "0             358\n",
       "14            251\n",
       "18            134\n",
       "Mentioned     111\n",
       "16            109\n",
       "17             94\n",
       "22             85\n",
       "25             85\n",
       "19             27\n",
       "23             26\n",
       "24             20\n",
       "21             12\n",
       "30             11\n",
       "28              8\n",
       "-1              1\n",
       "27              1\n",
       "26              1\n",
       "Name: Max Experience, dtype: int64"
      ]
     },
     "execution_count": 11,
     "metadata": {},
     "output_type": "execute_result"
    }
   ],
   "source": [
    "data['Max Experience'].value_counts()"
   ]
  },
  {
   "cell_type": "code",
   "execution_count": 31,
   "metadata": {},
   "outputs": [],
   "source": [
    "data['Min Experience'] = data['Min Experience'].replace('N',0)\n",
    "data['Max Experience'] = data['Max Experience'].replace(('Mentioned','-1'), (5,5))"
   ]
  },
  {
   "cell_type": "code",
   "execution_count": 33,
   "metadata": {},
   "outputs": [],
   "source": [
    "# lets convert thenm into numerical data types\n",
    "data['Min Experience'] = data['Min Experience'].astype('int')"
   ]
  },
  {
   "cell_type": "code",
   "execution_count": null,
   "metadata": {},
   "outputs": [],
   "source": []
  },
  {
   "cell_type": "code",
   "execution_count": 13,
   "metadata": {},
   "outputs": [
    {
     "data": {
      "image/png": "[encoded data removed]",
      "text/plain": [
       "<Figure size 1080x288 with 2 Axes>"
      ]
     },
     "metadata": {
      "needs_background": "light"
     },
     "output_type": "display_data"
    }
   ],
   "source": [
    "plt.rcParams['figure.figsize'] = (15, 4)\n",
    "\n",
    "plt.subplot(1, 2, 1)\n",
    "sns.countplot(data['Min Experience'], palette = 'magma')\n",
    "plt.xticks(fontsize = 9)\n",
    "plt.ylabel(\" \")\n",
    "\n",
    "plt.subplot(1, 2, 2)\n",
    "sns.countplot(data['Max Experience'], palette = 'magma')\n",
    "plt.xticks(fontsize = 9)\n",
    "plt.ylabel(\" \")\n",
    "\n",
    "plt.suptitle('Distribution of Experience')\n",
    "plt.show()"
   ]
  },
  {
   "cell_type": "code",
   "execution_count": 35,
   "metadata": {
    "scrolled": true
   },
   "outputs": [
    {
     "name": "stderr",
     "output_type": "stream",
     "text": [
      "C:\\Users\\USER\\AppData\\Local\\Temp\\ipykernel_13480\\1402752127.py:1: FutureWarning: The behavior of `series[i:j]` with an integer-dtype index is deprecated. In a future version, this will be treated as *label-based* indexing, consistent with e.g. `series[i]` lookups. To retain the old behavior, use `series.iloc[i:j]`. To get the future behavior, use `series.loc[i:j]`.\n",
      "  data['education'][:5]\n"
     ]
    },
    {
     "data": {
      "text/plain": [
       "0    UG: B.Tech/B.E. - Any Specialization PG:Any Po...\n",
       "1    UG: B.Tech/B.E. - Any Specialization PG:MBA/PG...\n",
       "2    UG: Any Graduate - Any Specialization PG:Any P...\n",
       "3    UG: Any Graduate - Any Specialization PG:CA Do...\n",
       "3    UG: Any Graduate - Any Specialization PG:CA Do...\n",
       "Name: education, dtype: object"
      ]
     },
     "execution_count": 35,
     "metadata": {},
     "output_type": "execute_result"
    }
   ],
   "source": [
    "data['education'][:5]"
   ]
  },
  {
   "cell_type": "code",
   "execution_count": 36,
   "metadata": {},
   "outputs": [
    {
     "data": {
      "text/plain": [
       "3132"
      ]
     },
     "execution_count": 36,
     "metadata": {},
     "output_type": "execute_result"
    }
   ],
   "source": [
    "data['education'].isnull().sum().sum()"
   ]
  },
  {
   "cell_type": "code",
   "execution_count": 37,
   "metadata": {},
   "outputs": [
    {
     "data": {
      "text/plain": [
       "0"
      ]
     },
     "execution_count": 37,
     "metadata": {},
     "output_type": "execute_result"
    }
   ],
   "source": [
    "# We can use the most common of the education to fill the missing values\n",
    "data['education'] = data['education'].fillna('UG: Any Graduate - Any Specialization')\n",
    "data['education'].isnull().sum()"
   ]
  },
  {
   "cell_type": "code",
   "execution_count": 38,
   "metadata": {},
   "outputs": [
    {
     "data": {
      "text/plain": [
       "Any                    24216\n",
       "B.Tech/B.E.             8835\n",
       "B.Com                    647\n",
       "B.Sc                     544\n",
       "Diploma                  441\n",
       "Graduation               397\n",
       "B.B.A                    267\n",
       "B.A                      240\n",
       "BCA                      174\n",
       "MBBS                     155\n",
       "BDS                      109\n",
       "B.Pharma                  97\n",
       "Other                     86\n",
       "B.Ed                      85\n",
       "LLB                       71\n",
       "Not                       54\n",
       "-                         54\n",
       "BHM                       54\n",
       "Doctorate                 49\n",
       "B.Arch                    37\n",
       "B.Tech/B.E.,              23\n",
       "B.Sc,                     21\n",
       "Postgraduate              14\n",
       "PG:CA                     10\n",
       "Doctorate:Doctorate        9\n",
       "B.Pharma,                  7\n",
       "Diploma,                   5\n",
       "B.Com,                     5\n",
       "BCA,                       3\n",
       "BVSC                       3\n",
       "B.A,                       3\n",
       "B.B.A,                     2\n",
       "MBA/PGDM                   2\n",
       "PG:Other                   1\n",
       "B.Des.                     1\n",
       "BAMS                       1\n",
       "BFA                        1\n",
       "Name: Education, dtype: int64"
      ]
     },
     "execution_count": 38,
     "metadata": {},
     "output_type": "execute_result"
    }
   ],
   "source": [
    "data['Education'] = data['education'].str.split(' ')\n",
    "data['Education'] = data['Education'].apply(lambda x: x[1] if len(x) > 1 else x[0])\n",
    "\n",
    "data['Education'].value_counts(dropna = False)"
   ]
  },
  {
   "cell_type": "code",
   "execution_count": 39,
   "metadata": {},
   "outputs": [
    {
     "data": {
      "text/plain": [
       "Any          24216\n",
       "B.Tech        9464\n",
       "B.Com          652\n",
       "B.Sc           565\n",
       "Diploma        446\n",
       "B.B.A          267\n",
       "B.A            243\n",
       "BCA            177\n",
       "MBBS           155\n",
       "BDS            109\n",
       "B.Pharma       104\n",
       "B.Ed            85\n",
       "LLB             71\n",
       "Doctorate       58\n",
       "BHM             54\n",
       "B.Arch          37\n",
       "CA              10\n",
       "BVSC             3\n",
       "MBA              2\n",
       "BBA              2\n",
       "B.Des.           1\n",
       "BAMS             1\n",
       "BFA              1\n",
       "Name: Education, dtype: int64"
      ]
     },
     "execution_count": 39,
     "metadata": {},
     "output_type": "execute_result"
    }
   ],
   "source": [
    "# let's do some cleaning\n",
    "\n",
    "data['Education'] = data['Education'].replace(('B.Tech/B.E.','Graduation','Other','-','Not','B.Tech/B.E.,','Postgraduate',\n",
    "                                               'PG:CA','Diploma,','B.Com,','B.Pharma,','B.A,','BCA,','B.Sc,','MBA/PGDM','B.B.A,',\n",
    "                                              'PG:Other','Doctorate:Doctorate','Post'),\n",
    "                                              ('B.Tech','B.Tech','B.Tech','B.Tech','B.Tech','B.Tech','B.Tech',\n",
    "                                              'CA','Diploma','B.Com','B.Pharma','B.A','BCA','B.Sc','MBA','BBA',\n",
    "                                              'B.Tech','Doctorate','B.Tech'))\n",
    "\n",
    "data['Education'].value_counts()"
   ]
  },
  {
   "cell_type": "code",
   "execution_count": 40,
   "metadata": {},
   "outputs": [
    {
     "name": "stderr",
     "output_type": "stream",
     "text": [
      "C:\\Users\\USER\\AppData\\Local\\Temp\\ipykernel_13480\\4053500813.py:1: FutureWarning: The behavior of `series[i:j]` with an integer-dtype index is deprecated. In a future version, this will be treated as *label-based* indexing, consistent with e.g. `series[i]` lookups. To retain the old behavior, use `series.iloc[i:j]`. To get the future behavior, use `series.loc[i:j]`.\n",
      "  data['industry'][:10]\n"
     ]
    },
    {
     "data": {
      "text/plain": [
       "0            Media / Entertainment / Internet\n",
       "1    Advertising / PR / MR / Event Management\n",
       "2             IT-Software / Software Services\n",
       "3      Banking / Financial Services / Broking\n",
       "3      Banking / Financial Services / Broking\n",
       "3      Banking / Financial Services / Broking\n",
       "3      Banking / Financial Services / Broking\n",
       "3      Banking / Financial Services / Broking\n",
       "4             IT-Software / Software Services\n",
       "5             IT-Software / Software Services\n",
       "Name: industry, dtype: object"
      ]
     },
     "execution_count": 40,
     "metadata": {},
     "output_type": "execute_result"
    }
   ],
   "source": [
    "data['industry'][:10]"
   ]
  },
  {
   "cell_type": "code",
   "execution_count": 41,
   "metadata": {},
   "outputs": [
    {
     "data": {
      "text/plain": [
       "1"
      ]
     },
     "execution_count": 41,
     "metadata": {},
     "output_type": "execute_result"
    }
   ],
   "source": [
    "data['industry'].isnull().sum()"
   ]
  },
  {
   "cell_type": "code",
   "execution_count": 42,
   "metadata": {},
   "outputs": [
    {
     "data": {
      "text/plain": [
       "0"
      ]
     },
     "execution_count": 42,
     "metadata": {},
     "output_type": "execute_result"
    }
   ],
   "source": [
    "data['industry'] = data['industry'].fillna(data['industry'].mode()[0])\n",
    "\n",
    "data['industry'].isnull().sum()"
   ]
  },
  {
   "cell_type": "code",
   "execution_count": 45,
   "metadata": {
    "scrolled": true
   },
   "outputs": [
    {
     "data": {
      "text/plain": [
       "IT-Software       14696\n",
       "BPO                2321\n",
       "Banking            2113\n",
       "Education          1727\n",
       "Recruitment        1538\n",
       "                  ...  \n",
       "Brewery               7\n",
       "Glass                 7\n",
       "Pulp and Paper        2\n",
       "Leather               1\n",
       "Broadcasting          1\n",
       "Name: Industry, Length: 62, dtype: int64"
      ]
     },
     "execution_count": 45,
     "metadata": {},
     "output_type": "execute_result"
    }
   ],
   "source": [
    "data['Industry'] = data['industry'].str.split(' / ')\n",
    "data['Industry'] = data['Industry'].apply(lambda x: x[0])\n",
    "\n",
    "data['Industry'].value_counts()\n",
    "\n",
    "# plt.rcParams['figure.figsize'] = (15, 7)\n",
    "# plt.title('Top Sectors for Jobs', fontsize = 20)\n",
    "# sns.barplot(y = data['Industry'].value_counts().head(10).index,\n",
    "#             x = data['Industry'].value_counts().head(10).values,\n",
    "#             palette = 'copper')\n",
    "# plt.show()"
   ]
  },
  {
   "cell_type": "code",
   "execution_count": 46,
   "metadata": {},
   "outputs": [
    {
     "data": {
      "image/png": "[encoded data removed]",
      "text/plain": [
       "<Figure size 1500x700 with 1 Axes>"
      ]
     },
     "metadata": {},
     "output_type": "display_data"
    }
   ],
   "source": [
    "plt.rcParams['figure.figsize'] = (15, 7)\n",
    "plt.title('Top Sectors for Jobs', fontsize = 20)\n",
    "sns.barplot(y = data['Industry'].value_counts().head(10).index,\n",
    "            x = data['Industry'].value_counts().head(10).values,\n",
    "            palette = 'copper')\n",
    "plt.show()"
   ]
  },
  {
   "cell_type": "code",
   "execution_count": 22,
   "metadata": {
    "scrolled": true
   },
   "outputs": [
    {
     "data": {
      "text/plain": [
       "0                                     ITES\n",
       "1                                Marketing\n",
       "2    IT Software - Application Programming\n",
       "3                                 Accounts\n",
       "3                                 Accounts\n",
       "3                                 Accounts\n",
       "3                                 Accounts\n",
       "3                                 Accounts\n",
       "4    IT Software - Application Programming\n",
       "5    IT Software - Application Programming\n",
       "Name: skills, dtype: object"
      ]
     },
     "execution_count": 22,
     "metadata": {},
     "output_type": "execute_result"
    }
   ],
   "source": [
    "data['skills'].head(10)"
   ]
  },
  {
   "cell_type": "code",
   "execution_count": 48,
   "metadata": {},
   "outputs": [
    {
     "data": {
      "text/plain": [
       "805"
      ]
     },
     "execution_count": 48,
     "metadata": {},
     "output_type": "execute_result"
    }
   ],
   "source": [
    "data['skills'].isnull().sum()"
   ]
  },
  {
   "cell_type": "code",
   "execution_count": 49,
   "metadata": {},
   "outputs": [
    {
     "data": {
      "text/plain": [
       "0"
      ]
     },
     "execution_count": 49,
     "metadata": {},
     "output_type": "execute_result"
    }
   ],
   "source": [
    "data['skills'] = data['skills'].fillna(data['skills'].mode()[0])\n",
    "data['skills'].isnull().sum()"
   ]
  },
  {
   "cell_type": "code",
   "execution_count": 50,
   "metadata": {
    "scrolled": true
   },
   "outputs": [
    {
     "data": {
      "text/plain": [
       "Application Programming              9985\n",
       "Sales                                5933\n",
       "ITES                                 2953\n",
       "Production                           1587\n",
       "Accounts                             1539\n",
       "HR                                   1455\n",
       "Teaching                             1351\n",
       "Marketing                            1328\n",
       "Medical                               818\n",
       "Financial Services                    751\n",
       "Site Engineering                      672\n",
       "Other                                 634\n",
       "Engineering Design                    624\n",
       "ERP                                   564\n",
       "eCommerce                             530\n",
       "Network Administration                507\n",
       "QA & Testing                          479\n",
       "IT Hardware                           466\n",
       "Journalism                            427\n",
       "DBA                                   424\n",
       "Supply Chain                          379\n",
       "Embedded                              368\n",
       "Design                                343\n",
       "Hotels                                275\n",
       "System Programming                    263\n",
       "Mobile                                255\n",
       "Analytics & Business Intelligence     251\n",
       "Executive Assistant                   239\n",
       "Travel                                201\n",
       "Telecom Software                      172\n",
       "Strategy                              137\n",
       "Legal                                 119\n",
       "Top Management                        116\n",
       "Client/Server Programming             101\n",
       "Export                                 97\n",
       "Architecture                           83\n",
       "Fashion Designing                      83\n",
       "Systems                                64\n",
       "TV                                     42\n",
       "Middleware                             34\n",
       "Defence Forces                         28\n",
       "Mainframe                              22\n",
       "Packaging                              14\n",
       "Beauty/Fitness/Spa Services             7\n",
       "Shipping                                3\n",
       "Name: Skills, dtype: int64"
      ]
     },
     "metadata": {},
     "output_type": "display_data"
    }
   ],
   "source": [
    "data['Skills'] = data['skills'].str.split(\" - \")\n",
    "data['Skills'] = data['Skills'].apply(lambda x: x[1] if len(x) > 1 else x[0])\n",
    "display(data['Skills'].value_counts())\n"
   ]
  },
  {
   "cell_type": "code",
   "execution_count": 51,
   "metadata": {},
   "outputs": [
    {
     "data": {
      "image/png": "[encoded data removed]",
      "text/plain": [
       "<Figure size 1500x400 with 1 Axes>"
      ]
     },
     "metadata": {},
     "output_type": "display_data"
    }
   ],
   "source": [
    "plt.rcParams['figure.figsize'] = (15, 4)\n",
    "plt.title('Requirement of Overall Skills', fontsize = 20)\n",
    "data['Skills'].value_counts().head(25).plot(kind = 'bar', color = 'black')\n",
    "plt.grid()\n",
    "plt.yticks(fontsize = 15)\n",
    "plt.ylabel(\" \")\n",
    "plt.xlabel(\" \")\n",
    "plt.show()"
   ]
  },
  {
   "cell_type": "code",
   "execution_count": 52,
   "metadata": {},
   "outputs": [
    {
     "data": {
      "text/plain": [
       "company                    0\n",
       "education                  0\n",
       "experience                 0\n",
       "industry                   0\n",
       "jobdescription             0\n",
       "jobid                      0\n",
       "joblocation_address        0\n",
       "jobtitle                   0\n",
       "numberofpositions      27829\n",
       "payrate                   93\n",
       "postdate                  29\n",
       "site_name              31217\n",
       "skills                     0\n",
       "uniq_id                    0\n",
       "joblocation_adress         0\n",
       "Min Experience             0\n",
       "Max Experience             0\n",
       "Education                  0\n",
       "Industry                   0\n",
       "Skills                     0\n",
       "dtype: int64"
      ]
     },
     "execution_count": 52,
     "metadata": {},
     "output_type": "execute_result"
    }
   ],
   "source": [
    "data.isnull().sum()"
   ]
  },
  {
   "cell_type": "code",
   "execution_count": 53,
   "metadata": {},
   "outputs": [],
   "source": [
    "data['numberofpositions'] = data['numberofpositions'].fillna(1)\n",
    "data['numberofpositions'] = data['numberofpositions'].astype('int')"
   ]
  },
  {
   "cell_type": "code",
   "execution_count": 54,
   "metadata": {},
   "outputs": [
    {
     "data": {
      "text/plain": [
       "0"
      ]
     },
     "execution_count": 54,
     "metadata": {},
     "output_type": "execute_result"
    }
   ],
   "source": [
    "# If the job post date and pay rate is missing it is useless, so lets remove the records where jobppostdate is not mentioned\n",
    "data = data.dropna()\n",
    "data.isnull().sum().sum()"
   ]
  },
  {
   "cell_type": "code",
   "execution_count": null,
   "metadata": {},
   "outputs": [],
   "source": []
  }
 ],
 "metadata": {
  "kernelspec": {
   "display_name": "Python 3 (ipykernel)",
   "language": "python",
   "name": "python3"
  },
  "language_info": {
   "codemirror_mode": {
    "name": "ipython",
    "version": 3
   },
   "file_extension": ".py",
   "mimetype": "text/x-python",
   "name": "python",
   "nbconvert_exporter": "python",
   "pygments_lexer": "ipython3",
   "version": "3.9.12"
  }
 },
 "nbformat": 4,
 "nbformat_minor": 4
}
